{
  "nbformat": 4,
  "nbformat_minor": 0,
  "metadata": {
    "colab": {
      "provenance": [],
      "gpuType": "T4"
    },
    "kernelspec": {
      "name": "python3",
      "display_name": "Python 3"
    },
    "language_info": {
      "name": "python"
    },
    "accelerator": "GPU"
  },
  "cells": [
    {
      "cell_type": "code",
      "source": [
        "!pip install cellpose"
      ],
      "metadata": {
        "id": "hQzpP-jsJYTd",
        "collapsed": true
      },
      "execution_count": null,
      "outputs": []
    },
    {
      "cell_type": "code",
      "source": [
        "import cellpose, os, cv2\n",
        "import numpy as np\n",
        "import matplotlib.pyplot as plt\n",
        "from google.colab import drive\n",
        "from cellpose import models, plot\n",
        "from tqdm import tqdm\n",
        "\n",
        "\n",
        "# rough cropper\n",
        "def crop_microscope_image(image_path):\n",
        "    image = cv2.imread(image_path)\n",
        "    gray = cv2.cvtColor(image, cv2.COLOR_BGR2GRAY)\n",
        "\n",
        "    x,y,w,h = cv2.boundingRect(cv2.threshold(gray,50,255,cv2.THRESH_BINARY)[1])\n",
        "    crop = image[y:y+h, x:x+w]\n",
        "\n",
        "    mask = np.zeros(crop.shape[:2], np.uint8)\n",
        "    radius = max(h,w)//2\n",
        "    cv2.circle(mask, (w//2, h//2), radius, 255, -1)\n",
        "\n",
        "    circle = cv2.bitwise_and(crop, crop, mask=mask)\n",
        "    return circle\n",
        "\n",
        "\n",
        "if __name__ == \"__main__\":\n",
        "  drive.mount('/content/drive', force_remount=True)\n",
        "\n",
        "  model = models.CellposeModel(gpu=True)\n",
        "\n",
        "  input_directory  = \"/content/drive/MyDrive/MNT/CellposeSAM/Input\"\n",
        "  output_directory = \"/content/drive/MyDrive/MNT/CellposeSAM/Output\"\n",
        "\n",
        "  cell_counts = []\n",
        "\n",
        "  for i, fname in enumerate(tqdm(sorted(os.listdir(input_directory)), desc=\"Processing\"), start=1):\n",
        "      image_path = os.path.join(input_directory, fname)\n",
        "      image = crop_microscope_image(image_path)\n",
        "      masks, flows, styles = model.eval(image)\n",
        "\n",
        "      # show masks to check if cellpose is working properly\n",
        "      flowi = flows[0]\n",
        "      fig = plt.figure(figsize=(12,5))\n",
        "      plot.show_segmentation(fig, image, masks, flowi)\n",
        "      plt.tight_layout()\n",
        "      plt.show()\n",
        "\n",
        "      cell_count = len(np.unique(masks)) - 1\n",
        "      cell_counts.append((i, cell_count)) # saves as a tuple (image, cell_count)\n",
        "\n",
        "\n",
        "  output_path = os.path.join(output_directory, \"cell_counts.txt\")\n",
        "  with open(output_path, \"w\") as f:\n",
        "      for image, cell_count in cell_counts:\n",
        "          f.write(f\"{image} {cell_count}\\n\")"
      ],
      "metadata": {
        "id": "hPdzjVcXBCua"
      },
      "execution_count": null,
      "outputs": []
    }
  ]
}